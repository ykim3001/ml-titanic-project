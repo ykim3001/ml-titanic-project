{
 "cells": [
  {
   "cell_type": "code",
   "execution_count": null,
   "metadata": {},
   "outputs": [],
   "source": [
    "import pandas as pd\n",
    "import numpy as np\n",
    "from sklearn.model_selection import train_test_split\n",
    "from sklearn.ensemble import RandomForestClassifier\n",
    "from sklearn.metrics import accuracy_score, confusion_matrix\n",
    "import matplotlib.pyplot as plt\n",
    "import seaborn as sns\n",
    "\n",
    "# load data\n",
    "df = pd.read_csv(\"../data.train.csv\")\n",
    "\n",
    "# clean data\n",
    "# removes unnecessary colums (cabin, name, ticket not useful for survival rediction)\n",
    "df = df.drop([\"Cabin\", \"Name\", \"Ticket\"], axis = 1)\n",
    "df[\"Age\"].fillna(df[\"Age\"].median(), inplace=True)\n",
    "df[\"Embarked\"].fillna(\"S\", inplace=True)\n",
    "# converts text into numbers the model understands(0 or 1) & avoids duplicate dummy columns\n",
    "df = pd.get_dummies(df, drop_first=True)\n",
    "\n",
    "# all data except the \"Survived\" column (these are your inputs)\n",
    "X = df.drop(\"Survived\", axis = 1)\n",
    "# The \"Survived\" column (this is what you want to predict)\n",
    "y = df[\"Survived\"]\n",
    "\n",
    "X_train, X_test, y_train, y_test = train_test_split(X, y, test_size= 0.2, random_state= 42)\n",
    "\n",
    "model = RandomForestClassifier(n_estimators= 100, random_state= 42)\n",
    "model.fit(X_train, y_train)\n",
    "preds = model.predict(X_test)\n",
    "\n",
    "# check accuracy\n",
    "acc = accuracy_score(y_test, preds)\n",
    "print(\"Accuracy:\", acc)\n",
    "\n",
    "# show confusion matrix\n",
    "sns.heatmap(confusion_matrix(y_test, preds), annot=True)\n",
    "plt.show()\n",
    "\n",
    "# show feature importance\n",
    "# tells you which features the model thought were most important for predicting survival\n",
    "# makes a horizontal bar chart of top features\n",
    "feat_importances = pd.Series(model.feature_importances_, index=X.columns)\n",
    "# pick top 10 most important features\n",
    "# draws a horizontal bar chart showing which features mattered most in predicting survival\n",
    "feat_importances.nlargest(10).plot(kind='barh')\n",
    "plt.show()\n"
   ]
  }
 ],
 "metadata": {
  "language_info": {
   "name": "python"
  }
 },
 "nbformat": 4,
 "nbformat_minor": 2
}
